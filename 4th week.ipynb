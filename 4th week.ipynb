{
 "cells": [
  {
   "cell_type": "markdown",
   "metadata": {},
   "source": [
    "25. Linear Algebra [Vector , Scalar, Tensors, Matrix, Gradiant, Eigen Values and Vectors]"
   ]
  },
  {
   "cell_type": "code",
   "execution_count": 1,
   "metadata": {},
   "outputs": [
    {
     "name": "stdout",
     "output_type": "stream",
     "text": [
      "Scalar :  50\n",
      "\n",
      "Matrix:\n",
      " [[0 2]\n",
      " [2 3]]\n",
      "\n",
      "Vector:\n",
      " [[0 2]]\n",
      "\n",
      "Tensor:\n",
      "\n",
      "Numerics:\n",
      " tf.Tensor(\n",
      "[[4 4 4]\n",
      " [4 4 4]\n",
      " [4 4 4]], shape=(3, 3), dtype=int32)\n",
      "\n",
      "String:\n",
      " tf.Tensor(\n",
      "[[b'str' b'str']\n",
      " [b'str' b'str']], shape=(2, 2), dtype=string)\n",
      "\n",
      "Gradient:\n",
      " [array([[2., 1.],\n",
      "       [2., 1.]]), array([[2., 2.],\n",
      "       [1., 1.]])]\n",
      "\n",
      "Eigen values:\n",
      " [-1.  4.]\n",
      "\n",
      "Eigen vectors:\n",
      " [[-0.89442719 -0.4472136 ]\n",
      " [ 0.4472136  -0.89442719]]\n",
      "\n",
      "Matrix norm: 4.123105625617661\n"
     ]
    }
   ],
   "source": [
    "import numpy as n \n",
    "import tensorflow as t \n",
    " \n",
    "s=50 \n",
    "print(\"Scalar : \",s) \n",
    " \n",
    "m=n.array([[0, 2],[2, 3]]) \n",
    "v=n.array([[0, 2]]) \n",
    "print(\"\\nMatrix:\\n\",m) \n",
    "print(\"\\nVector:\\n\",v) \n",
    " \n",
    "print(\"\\nTensor:\") \n",
    "fill_2d = t.fill([3, 3],4, '2d') \n",
    "fill_string = t.fill([2, 2], \"str\", 'fill_tensor_string') \n",
    "print(\"\\nNumerics:\\n\",fill_2d) \n",
    "print(\"\\nString:\\n\",fill_string) \n",
    "g=n.gradient(m) \n",
    "print(\"\\nGradient:\\n\",g) \n",
    " \n",
    "w,v = n.linalg.eig(m) \n",
    "mat_norm = n.linalg.norm(m) \n",
    "print(\"\\nEigen values:\\n\",w) \n",
    "print(\"\\nEigen vectors:\\n\",v) \n",
    "print(\"\\nMatrix norm:\", mat_norm) "
   ]
  }
 ],
 "metadata": {
  "kernelspec": {
   "display_name": "base",
   "language": "python",
   "name": "python3"
  },
  "language_info": {
   "codemirror_mode": {
    "name": "ipython",
    "version": 3
   },
   "file_extension": ".py",
   "mimetype": "text/x-python",
   "name": "python",
   "nbconvert_exporter": "python",
   "pygments_lexer": "ipython3",
   "version": "3.11.3"
  },
  "orig_nbformat": 4
 },
 "nbformat": 4,
 "nbformat_minor": 2
}
