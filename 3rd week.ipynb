{
 "cells": [
  {
   "cell_type": "markdown",
   "metadata": {},
   "source": [
    "3.Array Aggregation Functions [NUMPY] "
   ]
  },
  {
   "cell_type": "code",
   "execution_count": 1,
   "metadata": {},
   "outputs": [
    {
     "name": "stdout",
     "output_type": "stream",
     "text": [
      "\n",
      "An Array: [54 78 32 46 89 76]\n",
      "\n",
      "Sum: 375\n",
      "Product -1012440064\n",
      "Mean: 62.5\n",
      "Standard Deviation: 19.997916558148418\n",
      "Variance 399.9166666666667\n",
      "Minimum Value: 32\n",
      "Max: 89\n",
      "Min Index: 2\n",
      "Max Index: 4\n",
      "Median: 65.0\n",
      "Product: -1012440064\n"
     ]
    }
   ],
   "source": [
    "import numpy as n \n",
    " \n",
    "a=n.array([54,78,32,46,89,76]) \n",
    " \n",
    "print(\"\\nAn Array:\",a) \n",
    " \n",
    "print(\"\\nSum:\",n.sum(a)) \n",
    " \n",
    "print(\"Product\",n.prod(a)) \n",
    " \n",
    "print(\"Mean:\",n.mean(a)) \n",
    " \n",
    "print(\"Standard Deviation:\",n.std(a)) \n",
    " \n",
    "print(\"Variance\",n.var(a)) \n",
    " \n",
    "print(\"Minimum Value:\",n.min(a)) \n",
    " \n",
    "print(\"Max:\",n.max(a)) \n",
    " \n",
    "print(\"Min Index:\",n.argmin(a)) \n",
    " \n",
    "print(\"Max Index:\",n.argmax(a)) \n",
    " \n",
    "print(\"Median:\",n.median(a)) \n",
    " \n",
    "print(\"Product:\",n.prod(a)) "
   ]
  },
  {
   "cell_type": "markdown",
   "metadata": {},
   "source": [
    "4. Vectorized Operations using NUMPY Vectorized Sum and Multiplication "
   ]
  },
  {
   "cell_type": "code",
   "execution_count": 2,
   "metadata": {},
   "outputs": [
    {
     "name": "stdout",
     "output_type": "stream",
     "text": [
      "20\n",
      "Time taken by vectorized product : 14.6 µs ± 151 ns per loop (mean ± std. dev. of 7 runs, 100,000 loops each)\n",
      "20\n",
      "Time taken by iterative multiplication : 31.1 ns ± 0.868 ns per loop (mean ± std. dev. of 7 runs, 10,000,000 loops each)\n"
     ]
    }
   ],
   "source": [
    "import numpy as np \n",
    "import time \n",
    " \n",
    "np.a=[4,5,1] \n",
    "print(np.prod(np.a)) \n",
    "print(\"Time taken by vectorized product : \",end= \"\") \n",
    "%timeit np.prod(np.a) \n",
    " \n",
    "total = 1 \n",
    "for item in np.a: \n",
    " total =total*item \n",
    "t = total \n",
    "print(t) \n",
    "print(\"Time taken by iterative multiplication : \",end= \"\") \n",
    "%timeit t "
   ]
  }
 ],
 "metadata": {
  "kernelspec": {
   "display_name": "base",
   "language": "python",
   "name": "python3"
  },
  "language_info": {
   "codemirror_mode": {
    "name": "ipython",
    "version": 3
   },
   "file_extension": ".py",
   "mimetype": "text/x-python",
   "name": "python",
   "nbconvert_exporter": "python",
   "pygments_lexer": "ipython3",
   "version": "3.11.3"
  },
  "orig_nbformat": 4
 },
 "nbformat": 4,
 "nbformat_minor": 2
}
