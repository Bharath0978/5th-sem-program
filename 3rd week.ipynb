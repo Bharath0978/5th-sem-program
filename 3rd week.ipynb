{
 "cells": [
  {
   "cell_type": "markdown",
   "metadata": {},
   "source": [
    "3.Array Aggregation Functions [NUMPY] "
   ]
  },
  {
   "cell_type": "code",
   "execution_count": null,
   "metadata": {},
   "outputs": [],
   "source": [
    "import numpy as n \n",
    " \n",
    "a=n.array([54,78,32,46,89,76]) \n",
    " \n",
    "print(\"\\nAn Array:\",a) \n",
    " \n",
    "print(\"\\nSum:\",n.sum(a)) \n",
    " \n",
    "print(\"Product\",n.prod(a)) \n",
    " \n",
    "print(\"Mean:\",n.mean(a)) \n",
    " \n",
    "print(\"Standard Deviation:\",n.std(a)) \n",
    " \n",
    "print(\"Variance\",n.var(a)) \n",
    " \n",
    "print(\"Minimum Value:\",n.min(a)) \n",
    " \n",
    "print(\"Max:\",n.max(a)) \n",
    " \n",
    "print(\"Min Index:\",n.argmin(a)) \n",
    " \n",
    "print(\"Max Index:\",n.argmax(a)) \n",
    " \n",
    "print(\"Median:\",n.median(a)) \n",
    " \n",
    "print(\"Product:\",n.prod(a)) "
   ]
  }
 ],
 "metadata": {
  "language_info": {
   "name": "python"
  },
  "orig_nbformat": 4
 },
 "nbformat": 4,
 "nbformat_minor": 2
}
